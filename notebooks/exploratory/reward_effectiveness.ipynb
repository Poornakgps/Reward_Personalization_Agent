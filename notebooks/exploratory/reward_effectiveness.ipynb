{
 "cells": [
  {
   "cell_type": "markdown",
   "metadata": {},
   "source": [
    "# Reward Effectiveness Analysis\n",
    "\n",
    "This notebook analyzes the effectiveness of different rewards across customer segments and campaigns."
   ]
  },
  {
   "cell_type": "code",
   "execution_count": null,
   "metadata": {},
   "source": [
    "# Import libraries\n",
    "import pandas as pd\n",
    "import numpy as np\n",
    "import matplotlib.pyplot as plt\n",
    "import seaborn as sns\n",
    "import json\n",
    "from datetime import datetime, timedelta\n",
    "\n",
    "# Set visualization style\n",
    "sns.set_style('whitegrid')\n",
    "plt.rcParams['figure.figsize'] = (12, 8)"
   ]
  },
  {
   "cell_type": "markdown",
   "metadata": {},
   "source": [
    "## Load Data"
   ]
  },
  {
   "cell_type": "code",
   "execution_count": null,
   "metadata": {},
   "source": [
    "# Load rewards data\n",
    "with open('../data/rewards.json', 'r') as f:\n",
    "    rewards = json.load(f)\n",
    "    \n",
    "# Load events data (which contains reward claims)\n",
    "with open('../data/events.json', 'r') as f:\n",
    "    events = json.load(f)\n",
    "\n",
    "# Load segmented customers\n",
    "customers_df = pd.read_csv('../data/segmented_customers.csv')\n",
    "    \n",
    "# Convert to DataFrames\n",
    "rewards_df = pd.DataFrame(rewards)\n",
    "events_df = pd.DataFrame(events)\n",
    "\n",
    "# Display basic info\n",
    "print(f\"Loaded {len(rewards_df)} rewards, {len(events_df)} events, and {len(customers_df)} customers\")\n",
    "rewards_df.head()"
   ]
  },
  {
   "cell_type": "markdown",
   "metadata": {},
   "source": [
    "## Filter and Prepare Reward Claim Data"
   ]
  },
  {
   "cell_type": "code",
   "execution_count": null,
   "metadata": {},
   "source": [
    "# Filter events to get only reward claims\n",
    "reward_claims = events_df[events_df['event_type'] == 'reward_claim'].copy()\n",
    "\n",
    "# Extract reward ID from metadata\n",
    "reward_claims['reward_id'] = reward_claims['metadata'].apply(lambda x: x.get('reward_id', None))\n",
    "\n",
    "# Convert timestamp to datetime\n",
    "reward_claims['timestamp'] = pd.to_datetime(reward_claims['timestamp'])\n",
    "\n",
    "# Merge with rewards data\n",
    "reward_claims = pd.merge(reward_claims, rewards_df, left_on='reward_id', right_on='id', how='left')\n",
    "\n",
    "# Merge with customer data to get segments\n",
    "reward_claims = pd.merge(reward_claims, customers_df[['id', 'segment']], left_on='customer_id', right_on='id', how='left', suffixes=('_reward', '_customer'))\n",
    "\n",
    "reward_claims.head()"
   ]
  },
  {
   "cell_type": "markdown",
   "metadata": {},
   "source": [
    "## Analyze Reward Effectiveness by Type"
   ]
  },
  {
   "cell_type": "code",
   "execution_count": null,
   "metadata": {},
   "source": [
    "# Count claims by reward type\n",
    "reward_type_counts = reward_claims['type'].value_counts()\n",
    "\n",
    "# Calculate claim distribution\n",
    "reward_type_distribution = reward_type_counts / reward_type_counts.sum() * 100\n",
    "\n",
    "# Plot claim distribution by reward type\n",
    "plt.figure(figsize=(10, 6))\n",
    "reward_type_distribution.plot(kind='bar', color='skyblue')\n",
    "plt.title('Reward Claims by Type (%)')\n",
    "plt.xlabel('Reward Type')\n",
    "plt.ylabel('Percentage of Total Claims')\n",
    "plt.xticks(rotation=45)\n",
    "plt.grid(axis='y', linestyle='--', alpha=0.7)\n",
    "plt.tight_layout()\n",
    "plt.show()"
   ]
  },
  {
   "cell_type": "code",
   "execution_count": null,
   "metadata": {},
   "source": [
    "# Calculate claim rate for each reward\n",
    "# For each reward, count total number of times it was shown vs. claimed\n",
    "# In a real scenario, we would have impression data\n",
    "# For this analysis, we'll estimate based on reward age\n",
    "\n",
    "# Helper function to calculate days since reward creation\n",
    "def days_since_creation(created_at):\n",
    "    try:\n",
    "        created_date = pd.to_datetime(created_at)\n",
    "        return (datetime.now() - created_date).days\n",
    "    except:\n",
    "        return 30  # Default fallback\n",
    "\n",
    "# Add days since creation\n",
    "rewards_df['days_active'] = rewards_df['created_at'].apply(days_since_creation)\n",
    "\n",
    "# Count claims per reward\n",
    "reward_claim_counts = reward_claims['reward_id'].value_counts().reset_index()\n",
    "reward_claim_counts.columns = ['reward_id', 'claim_count']\n",
    "\n",
    "# Merge with rewards data\n",
    "reward_effectiveness = pd.merge(rewards_df, reward_claim_counts, left_on='id', right_on='reward_id', how='left')\n",
    "reward_effectiveness['claim_count'] = reward_effectiveness['claim_count'].fillna(0)\n",
    "\n",
    "# Estimate impressions based on days active (simplified)\n",
    "reward_effectiveness['estimated_impressions'] = reward_effectiveness['days_active'] * 5  # Assume 5 impressions per day\n",
    "\n",
    "# Calculate claim rate\n",
    "reward_effectiveness['claim_rate'] = reward_effectiveness['claim_count'] / reward_effectiveness['estimated_impressions']\n",
    "reward_effectiveness['claim_rate'] = reward_effectiveness['claim_rate'].fillna(0)\n",
    "\n",
    "# Display top rewards by claim rate\n",
    "top_rewards = reward_effectiveness.sort_values('claim_rate', ascending=False).head(10)\n",
    "print(\"Top 10 rewards by claim rate:\")\n",
    "top_rewards[['name', 'type', 'value', 'claim_count', 'claim_rate']]"
   ]
  },
  {
   "cell_type": "markdown",
   "metadata": {},
   "source": [
    "## Analyze Reward Effectiveness by Customer Segment"
   ]
  },
  {
   "cell_type": "code",
   "execution_count": null,
   "metadata": {},
   "source": [
    "# Count claims by segment\n",
    "segment_counts = reward_claims['segment'].value_counts()\n",
    "\n",
    "# Count customers by segment for normalization\n",
    "customer_segment_counts = customers_df['segment'].value_counts()\n",
    "\n",
    "# Calculate claims per customer by segment\n",
    "claims_per_customer = pd.DataFrame({\n",
    "    'claims': segment_counts,\n",
    "    'customers': customer_segment_counts\n",
    "}).fillna(0)\n",
    "\n",
    "claims_per_customer['claims_per_customer'] = claims_per_customer['claims'] / claims_per_customer['customers']\n",
    "\n",
    "# Plot claims per customer by segment\n",
    "plt.figure(figsize=(10, 6))\n",
    "claims_per_customer['claims_per_customer'].sort_values(ascending=False).plot(kind='bar', color='skyblue')\n",
    "plt.title('Average Reward Claims per Customer by Segment')\n",
    "plt.xlabel('Segment')\n",
    "plt.ylabel('Claims per Customer')\n",
    "plt.xticks(rotation=45)\n",
    "plt.grid(axis='y', linestyle='--', alpha=0.7)\n",
    "plt.tight_layout()\n",
    "plt.show()"
   ]
  },
  {
   "cell_type": "code",
   "execution_count": null,
   "metadata": {},
   "source": [
    "# Create a cross-tabulation of segment vs. reward type\n",
    "segment_reward_type = pd.crosstab(reward_claims['segment'], reward_claims['type'], normalize='index') * 100\n",
    "\n",
    "# Plot heatmap of segment vs. reward type preferences\n",
    "plt.figure(figsize=(12, 8))\n",
    "sns.heatmap(segment_reward_type, annot=True, cmap='YlGnBu', fmt='.1f')\n",
    "plt.title('Reward Type Preferences by Customer Segment (%)')\n",
    "plt.ylabel('Customer Segment')\n",
    "plt.xlabel('Reward Type')\n",
    "plt.tight_layout()\n",
    "plt.show()"
   ]
  },
  {
   "cell_type": "markdown",
   "metadata": {},
   "source": [
    "## Analyze Reward Value and Conditions"
   ]
  },
  {
   "cell_type": "code",
   "execution_count": null,
   "metadata": {},
   "source": [
    "# Extract conditions from rewards\n",
    "def has_min_purchase(conditions):\n",
    "    try:\n",
    "        return 'min_purchase' in conditions\n",
    "    except:\n",
    "        return False\n",
    "    \n",
    "def get_min_purchase(conditions):\n",
    "    try:\n",
    "        return conditions.get('min_purchase', 0)\n",
    "    except:\n",
    "        return 0\n",
    "\n",
    "reward_effectiveness['has_min_purchase'] = reward_effectiveness['conditions'].apply(has_min_purchase)\n",
    "reward_effectiveness['min_purchase'] = reward_effectiveness['conditions'].apply(get_min_purchase)\n",
    "\n",
    "# Compare claim rates for rewards with and without minimum purchase\n",
    "min_purchase_comparison = reward_effectiveness.groupby('has_min_purchase')['claim_rate'].mean() * 100\n",
    "\n",
    "plt.figure(figsize=(8, 6))\n",
    "min_purchase_comparison.plot(kind='bar', color=['skyblue', 'lightcoral'])\n",
    "plt.title('Effect of Minimum Purchase Requirement on Claim Rate')\n",
    "plt.xlabel('Has Minimum Purchase Requirement')\n",
    "plt.ylabel('Average Claim Rate (%)')\n",
    "plt.xticks(rotation=0)\n",
    "plt.grid(axis='y', linestyle='--', alpha=0.7)\n",
    "plt.tight_layout()\n",
    "plt.show()"
   ]
  },
  {
   "cell_type": "code",
   "execution_count": null,
   "metadata": {},
   "source": [
    "# Analyze relationship between reward value and claim rate\n",
    "plt.figure(figsize=(10, 6))\n",
    "plt.scatter(reward_effectiveness['value'], reward_effectiveness['claim_rate'] * 100, \n",
    "            alpha=0.7, s=80, c=reward_effectiveness['days_active'], cmap='viridis')\n",
    "plt.colorbar(label='Days Active')\n",
    "plt.title('Relationship Between Reward Value and Claim Rate')\n",
    "plt.xlabel('Reward Value')\n",
    "plt.ylabel('Claim Rate (%)')\n",
    "plt.grid(True, linestyle='--', alpha=0.7)\n",
    "plt.tight_layout()\n",
    "plt.show()"
   ]
  },
  {
   "cell_type": "markdown",
   "metadata": {},
   "source": [
    "## Analyze Reward Performance by Segment and Type"
   ]
  },
  {
   "cell_type": "code",
   "execution_count": null,
   "metadata": {},
   "source": [
    "# Group claimed rewards by segment and type\n",
    "segment_type_performance = reward_claims.groupby(['segment', 'type']).size().reset_index(name='claims')\n",
    "\n",
    "# Pivot for visualization\n",
    "segment_type_pivot = segment_type_performance.pivot(index='segment', columns='type', values='claims').fillna(0)\n",
    "\n",
    "# Plot grouped bar chart\n",
    "segment_type_pivot.plot(kind='bar', figsize=(12, 6))\n",
    "plt.title('Reward Claims by Segment and Type')\n",
    "plt.xlabel('Customer Segment')\n",
    "plt.ylabel('Number of Claims')\n",
    "plt.legend(title='Reward Type')\n",
    "plt.grid(axis='y', linestyle='--', alpha=0.7)\n",
    "plt.tight_layout()\n",
    "plt.show()"
   ]
  },
  {
   "cell_type": "markdown",
   "metadata": {},
   "source": [
    "## Optimal Reward Recommendations by Segment"
   ]
  },
  {
   "cell_type": "code",
   "execution_count": null,
   "metadata": {},
   "source": [
    "# Calculate effectiveness score for each segment-reward type combination\n",
    "# Normalize by number of customers in each segment\n",
    "segment_reward_effectiveness = segment_type_performance.copy()\n",
    "\n",
    "# Merge with customer counts\n",
    "segment_counts_df = pd.DataFrame({\n",
    "    'segment': customer_segment_counts.index,\n",
    "    'customer_count': customer_segment_counts.values\n",
    "})\n",
    "\n",
    "segment_reward_effectiveness = pd.merge(segment_reward_effectiveness, segment_counts_df, on='segment', how='left')\n",
    "\n",
    "# Calculate claims per 100 customers\n",
    "segment_reward_effectiveness['claims_per_100'] = segment_reward_effectiveness['claims'] / segment_reward_effectiveness['customer_count'] * 100\n",
    "\n",
    "# Get top reward types for each segment\n",
    "top_segment_rewards = segment_reward_effectiveness.sort_values(['segment', 'claims_per_100'], ascending=[True, False])\n",
    "top_segment_rewards_pivot = top_segment_rewards.pivot(index='segment', columns='type', values='claims_per_100').fillna(0)\n",
    "\n",
    "# Plot heatmap\n",
    "plt.figure(figsize=(12, 8))\n",
    "sns.heatmap(top_segment_rewards_pivot, annot=True, cmap='YlGnBu', fmt='.1f')\n",
    "plt.title('Reward Effectiveness by Segment (Claims per 100 Customers)')\n",
    "plt.ylabel('Customer Segment')\n",
    "plt.xlabel('Reward Type')\n",
    "plt.tight_layout()\n",
    "plt.show()"
   ]
  },
  {
   "cell_type": "code",
   "execution_count": null,
   "metadata": {},
   "source": [
    "# Generate reward recommendations for each segment\n",
    "segment_recommendations = {}\n",
    "\n",
    "for segment in top_segment_rewards['segment'].unique():\n",
    "    segment_data = top_segment_rewards[top_segment_rewards['segment'] == segment]\n",
    "    top_types = segment_data.sort_values('claims_per_100', ascending=False).head(3)\n",
    "    \n",
    "    segment_recommendations[segment] = {\n",
    "        'top_reward_types': top_types['type'].tolist(),\n",
    "        'effectiveness_scores': top_types['claims_per_100'].tolist(),\n",
    "        'recommended_value_range': [10, 25] if segment == 'VIP' else [5, 15],\n",
    "        'min_purchase_recommended': segment not in ['At Risk', 'Recent']\n",
    "    }\n",
    "\n",
    "# Display recommendations\n",
    "for segment, recommendations in segment_recommendations.items():\n",
    "    print(f\"\\n{segment} Segment Recommendations:\")\n",
    "    print(f\"Top Reward Types: {', '.join(recommendations['top_reward_types'])}\")\n",
    "    print(f\"Effectiveness Scores: {[round(score, 2) for score in recommendations['effectiveness_scores']]}\")\n",
    "    print(f\"Recommended Value Range: ${recommendations['recommended_value_range'][0]} - ${recommendations['recommended_value_range'][1]}\")\n",
    "    print(f\"Include Minimum Purchase: {'Yes' if recommendations['min_purchase_recommended'] else 'No'}\")"
   ]
  },
  {
   "cell_type": "markdown",
   "metadata": {},
   "source": [
    "## Export Optimized Reward Configurations"
   ]
  },
  {
   "cell_type": "code",
   "execution_count": null,
   "metadata": {},
   "source": [
    "# Create optimized reward configurations\n",
    "optimized_rewards = []\n",
    "\n",
    "for segment, recommendations in segment_recommendations.items():\n",
    "    for reward_type in recommendations['top_reward_types']:\n",
    "        # Create reward for this segment and type\n",
    "        value = np.random.uniform(recommendations['recommended_value_range'][0], \n",
    "                                   recommendations['recommended_value_range'][1])\n",
    "        \n",
    "        conditions = {}\n",
    "        if recommendations['min_purchase_recommended']:\n",
    "            conditions['min_purchase'] = 50 if segment == 'VIP' else 25\n",
    "            \n",
    "        reward = {\n",
    "            \"id\": f\"{segment.lower()}_{reward_type}_{len(optimized_rewards)}\",\n",
    "            \"name\": f\"{reward_type.title()} for {segment}\",\n",
    "            \"description\": f\"Optimized {reward_type} reward for {segment} customers\",\n",
    "            \"type\": reward_type,\n",
    "            \"value\": round(value, 2),\n",
    "            \"target_segment\": segment,\n",
    "            \"conditions\": conditions,\n",
    "            \"created_at\": datetime.now().isoformat()\n",
    "        }\n",
    "        \n",
    "        optimized_rewards.append(reward)\n",
    "\n",
    "# Save optimized rewards\n",
    "with open('../data/optimized_rewards.json', 'w') as f:\n",
    "    json.dump(optimized_rewards, f, indent=2)\n",
    "    \n",
    "print(f\"Saved {len(optimized_rewards)} optimized reward configurations to '../data/optimized_rewards.json'\")"
   ]
  }
 ],
 "metadata": {
  "kernelspec": {
   "display_name": "Python 3",
   "language": "python",
   "name": "python3"
  },
  "language_info": {
   "codemirror_mode": {
    "name": "ipython",
    "version": 3
   },
   "file_extension": ".py",
   "mimetype": "text/x-python",
   "name": "python",
   "nbconvert_exporter": "python",
   "pygments_lexer": "ipython3",
   "version": "3.8.8"
  }
 },
 "nbformat": 4,
 "nbformat_minor": 4
}
