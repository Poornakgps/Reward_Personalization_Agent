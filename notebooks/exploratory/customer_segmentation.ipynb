{
 "cells": [
  {
   "cell_type": "markdown",
   "metadata": {},
   "source": [
    "# Customer Segmentation Analysis\n",
    "\n",
    "This notebook explores customer segmentation based on engagement patterns and reward preferences."
   ]
  },
  {
   "cell_type": "code",
   "execution_count": null,
   "metadata": {},
   "source": [
    "# Import libraries\n",
    "import pandas as pd\n",
    "import numpy as np\n",
    "import matplotlib.pyplot as plt\n",
    "import seaborn as sns\n",
    "from sklearn.cluster import KMeans\n",
    "from sklearn.preprocessing import StandardScaler\n",
    "import json\n",
    "import os\n",
    "from datetime import datetime\n",
    "\n",
    "# Set visualization style\n",
    "sns.set_style('whitegrid')\n",
    "plt.rcParams['figure.figsize'] = (12, 8)"
   ]
  },
  {
   "cell_type": "markdown",
   "metadata": {},
   "source": [
    "## Load and Prepare Data"
   ]
  },
  {
   "cell_type": "code",
   "execution_count": null,
   "metadata": {},
   "source": [
    "# Load customer data\n",
    "with open('../data/customers.json', 'r') as f:\n",
    "    customers = json.load(f)\n",
    "    \n",
    "# Load events data\n",
    "with open('../data/events.json', 'r') as f:\n",
    "    events = json.load(f)\n",
    "    \n",
    "# Convert to DataFrames\n",
    "customers_df = pd.DataFrame(customers)\n",
    "events_df = pd.DataFrame(events)\n",
    "\n",
    "# Display data\n",
    "print(f\"Loaded {len(customers_df)} customers and {len(events_df)} events\")\n",
    "customers_df.head()"
   ]
  },
  {
   "cell_type": "code",
   "execution_count": null,
   "metadata": {},
   "source": [
    "# Extract customer attributes into separate columns\n",
    "customers_df['age'] = customers_df['attributes'].apply(lambda x: x.get('age', 0))\n",
    "customers_df['gender'] = customers_df['attributes'].apply(lambda x: x.get('gender', 'unknown'))\n",
    "customers_df['location'] = customers_df['attributes'].apply(lambda x: x.get('location', 'unknown'))\n",
    "customers_df['interest_count'] = customers_df['attributes'].apply(lambda x: len(x.get('interests', [])))\n",
    "\n",
    "# Convert created_at to datetime\n",
    "customers_df['created_at'] = pd.to_datetime(customers_df['created_at'])\n",
    "customers_df['days_since_signup'] = (datetime.now() - customers_df['created_at']).dt.days\n",
    "\n",
    "customers_df.head()"
   ]
  },
  {
   "cell_type": "code",
   "execution_count": null,
   "metadata": {},
   "source": [
    "# Calculate engagement metrics per customer\n",
    "events_df['timestamp'] = pd.to_datetime(events_df['timestamp'])\n",
    "\n",
    "# Count events by type for each customer\n",
    "event_counts = events_df.groupby(['customer_id', 'event_type']).size().unstack(fill_value=0)\n",
    "\n",
    "# Calculate recency (days since last event)\n",
    "last_event = events_df.groupby('customer_id')['timestamp'].max()\n",
    "last_event = pd.DataFrame(last_event).rename(columns={'timestamp': 'last_event'})\n",
    "last_event['days_since_last_event'] = (datetime.now() - last_event['last_event']).dt.days\n",
    "\n",
    "# Calculate frequency (total events)\n",
    "event_frequency = events_df.groupby('customer_id').size().to_frame('total_events')\n",
    "\n",
    "# Merge all metrics\n",
    "engagement_metrics = pd.merge(event_counts, last_event, on='customer_id', how='outer')\n",
    "engagement_metrics = pd.merge(engagement_metrics, event_frequency, on='customer_id', how='outer')\n",
    "\n",
    "# Fill NaN values\n",
    "engagement_metrics = engagement_metrics.fillna(0)\n",
    "\n",
    "engagement_metrics.head()"
   ]
  },
  {
   "cell_type": "markdown",
   "metadata": {},
   "source": [
    "## Perform Clustering"
   ]
  },
  {
   "cell_type": "code",
   "execution_count": null,
   "metadata": {},
   "source": [
    "# Merge customer data with engagement metrics\n",
    "customer_features = pd.merge(customers_df, engagement_metrics, left_on='id', right_on='customer_id', how='left')\n",
    "customer_features = customer_features.fillna(0)\n",
    "\n",
    "# Select features for clustering\n",
    "features = [\n",
    "    'age', 'interest_count', 'days_since_signup', 'days_since_last_event',\n",
    "    'email_open', 'email_click', 'reward_claim', 'purchase', 'total_events'\n",
    "]\n",
    "\n",
    "# Scale the features\n",
    "scaler = StandardScaler()\n",
    "scaled_features = scaler.fit_transform(customer_features[features])\n",
    "\n",
    "# Determine optimal number of clusters (elbow method)\n",
    "wcss = []\n",
    "for i in range(1, 11):\n",
    "    kmeans = KMeans(n_clusters=i, init='k-means++', max_iter=300, n_init=10, random_state=42)\n",
    "    kmeans.fit(scaled_features)\n",
    "    wcss.append(kmeans.inertia_)\n",
    "\n",
    "plt.figure(figsize=(10, 6))\n",
    "plt.plot(range(1, 11), wcss)\n",
    "plt.title('Elbow Method')\n",
    "plt.xlabel('Number of clusters')\n",
    "plt.ylabel('WCSS')\n",
    "plt.show()"
   ]
  },
  {
   "cell_type": "code",
   "execution_count": null,
   "metadata": {},
   "source": [
    "# Apply K-means clustering with k=5\n",
    "kmeans = KMeans(n_clusters=5, init='k-means++', max_iter=300, n_init=10, random_state=42)\n",
    "customer_features['cluster'] = kmeans.fit_predict(scaled_features)\n",
    "\n",
    "# Count customers in each cluster\n",
    "cluster_counts = customer_features['cluster'].value_counts().sort_index()\n",
    "print(\"Customers per cluster:\")\n",
    "print(cluster_counts)\n",
    "\n",
    "# Analyze cluster characteristics\n",
    "cluster_analysis = customer_features.groupby('cluster')[features].mean()\n",
    "print(\"\\nCluster characteristics:\")\n",
    "cluster_analysis"
   ]
  },
  {
   "cell_type": "markdown",
   "metadata": {},
   "source": [
    "## Visualize Segments"
   ]
  },
  {
   "cell_type": "code",
   "execution_count": null,
   "metadata": {},
   "source": [
    "# Visualize clusters\n",
    "plt.figure(figsize=(12, 10))\n",
    "\n",
    "# Select two features for visualization\n",
    "x_feature = 'days_since_last_event'\n",
    "y_feature = 'total_events'\n",
    "\n",
    "plt.scatter(\n",
    "    customer_features[x_feature],\n",
    "    customer_features[y_feature],\n",
    "    c=customer_features['cluster'],\n",
    "    cmap='viridis',\n",
    "    s=50,\n",
    "    alpha=0.7\n",
    ")\n",
    "\n",
    "plt.colorbar(label='Cluster')\n",
    "plt.xlabel(x_feature)\n",
    "plt.ylabel(y_feature)\n",
    "plt.title('Customer Segments based on Engagement')\n",
    "plt.grid(True, linestyle='--', alpha=0.7)\n",
    "plt.show()"
   ]
  },
  {
   "cell_type": "code",
   "execution_count": null,
   "metadata": {},
   "source": [
    "# Radar chart for cluster profiles\n",
    "from matplotlib.path import Path\n",
    "from matplotlib.spines import Spine\n",
    "from matplotlib.transforms import Affine2D\n",
    "\n",
    "def radar_chart(df, features, labels=None):\n",
    "    # Number of variables\n",
    "    N = len(features)\n",
    "    \n",
    "    # What will be the angle of each axis in the plot\n",
    "    angles = [n / float(N) * 2 * np.pi for n in range(N)]\n",
    "    angles += angles[:1]\n",
    "    \n",
    "    # Initialize the plot\n",
    "    fig, ax = plt.subplots(figsize=(10, 10), subplot_kw=dict(polar=True))\n",
    "    \n",
    "    # If you want the first axis to be on top:\n",
    "    ax.set_theta_offset(np.pi / 2)\n",
    "    ax.set_theta_direction(-1)\n",
    "    \n",
    "    # Draw one axis per variable + add labels\n",
    "    plt.xticks(angles[:-1], features, size=12)\n",
    "    \n",
    "    # Draw ylabels\n",
    "    ax.set_rlabel_position(0)\n",
    "    plt.yticks([0.2, 0.4, 0.6, 0.8], [\"0.2\", \"0.4\", \"0.6\", \"0.8\"], size=10)\n",
    "    plt.ylim(0, 1)\n",
    "    \n",
    "    # Plot each cluster\n",
    "    for i, row in enumerate(df.values):\n",
    "        values = row.tolist()\n",
    "        values += values[:1]\n",
    "        ax.plot(angles, values, linewidth=2, linestyle='solid', label=f\"Cluster {i}\")\n",
    "        ax.fill(angles, values, alpha=0.1)\n",
    "    \n",
    "    # Add legend\n",
    "    plt.legend(loc='upper right', bbox_to_anchor=(0.1, 0.1))\n",
    "    plt.title('Cluster Profiles', size=20, y=1.1)\n",
    "    \n",
    "    return plt\n",
    "\n",
    "# Normalize cluster analysis for radar chart\n",
    "normalized_clusters = cluster_analysis.copy()\n",
    "for feature in features:\n",
    "    max_val = normalized_clusters[feature].max()\n",
    "    if max_val > 0:  # Avoid division by zero\n",
    "        normalized_clusters[feature] = normalized_clusters[feature] / max_val\n",
    "\n",
    "# Create radar chart\n",
    "radar_chart(normalized_clusters, features)\n",
    "plt.show()"
   ]
  },
  {
   "cell_type": "markdown",
   "metadata": {},
   "source": [
    "## Assign Segment Names and Export"
   ]
  },
  {
   "cell_type": "code",
   "execution_count": null,
   "metadata": {},
   "source": [
    "# Assign meaningful segment names based on cluster characteristics\n",
    "segment_mapping = {\n",
    "    0: \"At Risk\",      # High days_since_last_event, low engagement\n",
    "    1: \"Standard\",     # Average metrics across the board\n",
    "    2: \"Recent\",       # Low days_since_signup, moderate engagement\n",
    "    3: \"Active\",       # High total_events, high email engagement\n",
    "    4: \"VIP\"           # High purchase and reward_claim, high total_events\n",
    "}\n",
    "\n",
    "# Map cluster numbers to segment names\n",
    "customer_features['segment'] = customer_features['cluster'].map(segment_mapping)\n",
    "\n",
    "# Count customers in each segment\n",
    "segment_counts = customer_features['segment'].value_counts()\n",
    "print(\"Customers per segment:\")\n",
    "print(segment_counts)\n",
    "\n",
    "# Visualize segment distribution\n",
    "plt.figure(figsize=(10, 6))\n",
    "segment_counts.plot(kind='bar', color='skyblue')\n",
    "plt.title('Customer Segment Distribution')\n",
    "plt.xlabel('Segment')\n",
    "plt.ylabel('Number of Customers')\n",
    "plt.xticks(rotation=45)\n",
    "plt.tight_layout()\n",
    "plt.show()"
   ]
  },
  {
   "cell_type": "code",
   "execution_count": null,
   "metadata": {},
   "source": [
    "# Export segmented customer data\n",
    "segmented_customers = customer_features[['id', 'email', 'name', 'age', 'gender', 'location', 'segment']]\n",
    "segmented_customers.to_csv('../data/segmented_customers.csv', index=False)\n",
    "\n",
    "print(f\"Exported {len(segmented_customers)} segmented customers to '../data/segmented_customers.csv'\")"
   ]
  },
  {
   "cell_type": "markdown",
   "metadata": {},
   "source": [
    "## Segment-Based Reward Recommendations"
   ]
  },
  {
   "cell_type": "code",
   "execution_count": null,
   "metadata": {},
   "source": [
    "# Define segment-specific reward strategies\n",
    "segment_strategies = {\n",
    "    \"VIP\": {\n",
    "        \"primary_rewards\": [\"exclusive_access\", \"high_value_gift_cards\", \"premium_loyalty_points\"],\n",
    "        \"secondary_rewards\": [\"free_shipping\", \"personalized_discounts\"],\n",
    "        \"content_focus\": [\"exclusive_offers\", \"early_access\", \"premium_content\"]\n",
    "    },\n",
    "    \"Active\": {\n",
    "        \"primary_rewards\": [\"loyalty_points\", \"tiered_discounts\", \"referral_bonuses\"],\n",
    "        \"secondary_rewards\": [\"free_items\", \"birthday_rewards\"],\n",
    "        \"content_focus\": [\"games\", \"personalized_recommendations\", \"community_content\"]\n",
    "    },\n",
    "    \"Recent\": {\n",
    "        \"primary_rewards\": [\"welcome_discounts\", \"first_purchase_bonus\", \"free_trial_extensions\"],\n",
    "        \"secondary_rewards\": [\"small_gift_cards\", \"loyalty_program_enrollment\"],\n",
    "        \"content_focus\": [\"product_education\", \"brand_introduction\", \"onboarding_content\"]\n",
    "    },\n",
    "    \"Standard\": {\n",
    "        \"primary_rewards\": [\"percentage_discounts\", \"seasonal_offers\", \"loyalty_program\"],\n",
    "        \"secondary_rewards\": [\"free_shipping_threshold\", \"bundle_discounts\"],\n",
    "        \"content_focus\": [\"product_highlights\", \"educational_content\", \"seasonal_campaigns\"]\n",
    "    },\n",
    "    \"At Risk\": {\n",
    "        \"primary_rewards\": [\"win_back_discounts\", \"free_shipping\", \"no_minimum_purchase_offers\"],\n",
    "        \"secondary_rewards\": [\"extended_returns\", \"customer_feedback_incentives\"],\n",
    "        \"content_focus\": [\"re-engagement_campaigns\", \"simplified_options\", \"direct_value_proposition\"]\n",
    "    }\n",
    "}\n",
    "\n",
    "# Display strategy summary\n",
    "for segment, strategy in segment_strategies.items():\n",
    "    print(f\"\\n{segment} Segment Strategy:\")\n",
    "    print(f\"Primary Rewards: {', '.join(strategy['primary_rewards'])}\")\n",
    "    print(f\"Secondary Rewards: {', '.join(strategy['secondary_rewards'])}\")\n",
    "    print(f\"Content Focus: {', '.join(strategy['content_focus'])}\")"
   ]
  },
  {
   "cell_type": "code",
   "execution_count": null,
   "metadata": {},
   "source": [
    "# Visualize optimal content mix by segment\n",
    "content_types = ['questions', 'games', 'vouchers', 'newsletters', 'surveys']\n",
    "content_mix = {\n",
    "    \"VIP\": [0.1, 0.2, 0.3, 0.3, 0.1],\n",
    "    \"Active\": [0.2, 0.3, 0.2, 0.2, 0.1],\n",
    "    \"Recent\": [0.3, 0.2, 0.3, 0.1, 0.1],\n",
    "    \"Standard\": [0.2, 0.1, 0.2, 0.4, 0.1],\n",
    "    \"At Risk\": [0.1, 0.1, 0.5, 0.2, 0.1]\n",
    "}\n",
    "\n",
    "# Create stacked bar chart\n",
    "content_df = pd.DataFrame(content_mix, index=content_types)\n",
    "\n",
    "plt.figure(figsize=(12, 6))\n",
    "content_df.plot(kind='bar', stacked=True, colormap='viridis')\n",
    "plt.title('Optimal Content Mix by Segment')\n",
    "plt.xlabel('Content Type')\n",
    "plt.ylabel('Proportion')\n",
    "plt.legend(title='Segment')\n",
    "plt.xticks(rotation=45)\n",
    "plt.tight_layout()\n",
    "plt.show()"
   ]
  }
 ],
 "metadata": {
  "kernelspec": {
   "display_name": "Python 3",
   "language": "python",
   "name": "python3"
  },
  "language_info": {
   "codemirror_mode": {
    "name": "ipython",
    "version": 3
   },
   "file_extension": ".py",
   "mimetype": "text/x-python",
   "name": "python",
   "nbconvert_exporter": "python",
   "pygments_lexer": "ipython3",
   "version": "3.8.8"
  }
 },
 "nbformat": 4,
 "nbformat_minor": 4
}
